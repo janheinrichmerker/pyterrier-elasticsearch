{
 "cells": [
  {
   "cell_type": "markdown",
   "metadata": {
    "collapsed": false,
    "pycharm": {
     "name": "#%% md\n"
    }
   },
   "source": [
    "# Using Elasticsearch in PyTerrier experiments\n",
    "Elasticsearch can store huge indices that could not easily be retrieved from with PyTerrier.\n",
    "Using the Elasticsearch API via the [`elasticsearch`](https://pypi.org/project/elasticsearch/) Python package,\n",
    "we can integrate large indices into PyTerrier experiments and take advantage of Elasticsearch's distribution capabilities."
   ]
  },
  {
   "cell_type": "markdown",
   "metadata": {
    "collapsed": false,
    "pycharm": {
     "name": "#%% md\n"
    }
   },
   "source": [
    "## Configuration\n",
    "To access Elasticsearch, we need to connect to a cluster by URL, username, and password. Refer to the [API documentation](https://www.elastic.co/guide/en/elasticsearch/client/python-api/current/connecting.html) about other ways to connect to a cluster."
   ]
  },
  {
   "cell_type": "code",
   "execution_count": null,
   "metadata": {
    "collapsed": false,
    "pycharm": {
     "name": "#%%\n"
    }
   },
   "outputs": [],
   "source": [
    "url: str = input(\"Elasticsearch URL: \")"
   ]
  },
  {
   "cell_type": "code",
   "execution_count": null,
   "metadata": {
    "collapsed": false,
    "pycharm": {
     "name": "#%%\n"
    }
   },
   "outputs": [],
   "source": [
    "username: str = input(\"Elasticsearch username: \")"
   ]
  },
  {
   "cell_type": "code",
   "execution_count": null,
   "metadata": {
    "collapsed": false,
    "pycharm": {
     "name": "#%%\n"
    }
   },
   "outputs": [],
   "source": [
    "password: str = input(\"Elasticsearch password: \")"
   ]
  },
  {
   "cell_type": "code",
   "execution_count": null,
   "metadata": {
    "collapsed": false,
    "pycharm": {
     "name": "#%%\n"
    }
   },
   "outputs": [],
   "source": [
    "index: str = input(\"Elasticsearch index: \")"
   ]
  },
  {
   "cell_type": "markdown",
   "metadata": {
    "collapsed": false,
    "pycharm": {
     "name": "#%% md\n"
    }
   },
   "source": [
    "## Setup"
   ]
  },
  {
   "cell_type": "markdown",
   "metadata": {
    "collapsed": false,
    "pycharm": {
     "name": "#%% md\n"
    }
   },
   "source": [
    "Install Python packages if run in Google Colab."
   ]
  },
  {
   "cell_type": "code",
   "execution_count": null,
   "metadata": {
    "collapsed": false,
    "pycharm": {
     "name": "#%%\n"
    }
   },
   "outputs": [],
   "source": [
    "from sys import modules\n",
    "\n",
    "if \"google.colab\" in modules:\n",
    "    !pip install -q chatnoir-pyterrier python-terrier"
   ]
  },
  {
   "cell_type": "markdown",
   "metadata": {
    "collapsed": false,
    "pycharm": {
     "name": "#%% md\n"
    }
   },
   "source": [
    "Connect to Elasticsearch cluster."
   ]
  },
  {
   "cell_type": "code",
   "execution_count": null,
   "metadata": {
    "collapsed": false,
    "pycharm": {
     "name": "#%%\n"
    }
   },
   "outputs": [],
   "source": [
    "from elasticsearch import Elasticsearch\n",
    "\n",
    "client = Elasticsearch(\n",
    "    hosts=url,\n",
    "    basic_auth=(username, password)\n",
    ")\n",
    "client"
   ]
  },
  {
   "cell_type": "markdown",
   "metadata": {
    "collapsed": false,
    "pycharm": {
     "name": "#%% md\n"
    }
   },
   "source": [
    "## Retrieval pipeline\n",
    "We can now create a retrieval pipeline which retrieves results from Elasticsearch.\n",
    "Create a `ElasticsearchRetrieve` transformer by specifying the ChatNoir API key and (optionally) some index.\n",
    "You can then use the pipeline in the same way as `BatchRetrieve`.\n",
    "\n",
    "The `fields` parameter specifies on which fields of the Elasticsearch index the terms should match.\n",
    "The `columns` parameter then specifies which Elasticsearch fields are mapped to which column in the result data frame."
   ]
  },
  {
   "cell_type": "code",
   "execution_count": null,
   "metadata": {
    "collapsed": false,
    "pycharm": {
     "name": "#%%\n"
    }
   },
   "outputs": [],
   "source": [
    "from pyterrier_elasticsearch import ElasticsearchRetrieve\n",
    "\n",
    "es_text_title = ElasticsearchRetrieve(\n",
    "    client=client,\n",
    "    index=index,\n",
    "    fields=[\"text\", \"title\"],\n",
    "    columns={\n",
    "        # source field -> destination column\n",
    "        \"text\": \"text\",\n",
    "        \"title\": \"title\",\n",
    "    },\n",
    "    verbose=True,\n",
    ")"
   ]
  },
  {
   "cell_type": "markdown",
   "metadata": {
    "collapsed": false,
    "pycharm": {
     "name": "#%% md\n"
    }
   },
   "source": [
    "### Search\n",
    "For example, we can search the ClueWeb 12 for documents containing `python library`:"
   ]
  },
  {
   "cell_type": "code",
   "execution_count": null,
   "metadata": {
    "collapsed": false,
    "pycharm": {
     "name": "#%%\n"
    }
   },
   "outputs": [],
   "source": [
    "es_text_title.search(\"python library\")"
   ]
  },
  {
   "cell_type": "markdown",
   "metadata": {
    "collapsed": false,
    "pycharm": {
     "name": "#%% md\n"
    }
   },
   "source": [
    "### Evaluation\n",
    "We can also use the pipeline in a PyTerrier `Experiment` (and compare it to other retrieval pipelines).\n",
    "First, we need to download the test topics, for example from the TREC Web Track 2014.\n",
    "(Refer to the [PyTerrier documentation](https://pyterrier.readthedocs.io/en/latest/datasets.html#examples) for more detailed guides.)"
   ]
  },
  {
   "cell_type": "code",
   "execution_count": null,
   "metadata": {
    "collapsed": false,
    "pycharm": {
     "name": "#%%\n"
    }
   },
   "outputs": [],
   "source": [
    "from pandas import DataFrame\n",
    "from pyterrier import Dataset, get_dataset\n",
    "\n",
    "dataset: Dataset = get_dataset(\"irds:clueweb12/trec-web-2014\")\n",
    "topics: DataFrame = dataset.get_topics(variant=\"query\").iloc[:5]"
   ]
  },
  {
   "cell_type": "markdown",
   "metadata": {
    "collapsed": false,
    "pycharm": {
     "name": "#%% md\n"
    }
   },
   "source": [
    "Now we can, for example, retrieve documents for the TREC Web Track 2014 topics."
   ]
  },
  {
   "cell_type": "code",
   "execution_count": null,
   "metadata": {
    "collapsed": false,
    "pycharm": {
     "name": "#%%\n"
    }
   },
   "outputs": [],
   "source": [
    "es_text_title.transform(topics)"
   ]
  },
  {
   "cell_type": "markdown",
   "metadata": {
    "collapsed": false,
    "pycharm": {
     "name": "#%% md\n"
    }
   },
   "source": [
    "Alternatively, we could compare the results with searching only the text field."
   ]
  },
  {
   "cell_type": "code",
   "execution_count": null,
   "metadata": {
    "collapsed": false,
    "pycharm": {
     "name": "#%%\n"
    }
   },
   "outputs": [],
   "source": [
    "from pyterrier_elasticsearch import ElasticsearchRetrieve\n",
    "\n",
    "es_text = ElasticsearchRetrieve(\n",
    "    client=client,\n",
    "    index=index,\n",
    "    fields=[\"text\"],\n",
    "    columns={\n",
    "        # source field -> destination column\n",
    "        \"text\": \"text\",\n",
    "        \"title\": \"title\",\n",
    "    },\n",
    "    verbose=True,\n",
    ")"
   ]
  },
  {
   "cell_type": "code",
   "execution_count": null,
   "metadata": {
    "collapsed": false,
    "pycharm": {
     "name": "#%%\n"
    }
   },
   "outputs": [],
   "source": []
  },
  {
   "cell_type": "markdown",
   "metadata": {
    "collapsed": false,
    "pycharm": {
     "name": "#%% md\n"
    }
   },
   "source": [
    "Then we runs an experiment like this"
   ]
  },
  {
   "cell_type": "code",
   "execution_count": null,
   "metadata": {
    "collapsed": false,
    "pycharm": {
     "name": "#%%\n"
    }
   },
   "outputs": [],
   "source": [
    "from ir_measures import nDCG, RR, MAP\n",
    "from pyterrier import Experiment\n",
    "\n",
    "Experiment(\n",
    "    [es_text_title, es_text],\n",
    "    topics,\n",
    "    dataset.get_qrels(),\n",
    "    eval_metrics=[nDCG @ 5, MAP, RR],\n",
    "    names=[\"ES (text+title)\", \"ES (text)\"],\n",
    ")"
   ]
  }
 ],
 "metadata": {
  "kernelspec": {
   "display_name": "Python 3",
   "language": "python",
   "name": "python3"
  },
  "language_info": {
   "codemirror_mode": {
    "name": "ipython",
    "version": 2
   },
   "file_extension": ".py",
   "mimetype": "text/x-python",
   "name": "python",
   "nbconvert_exporter": "python",
   "pygments_lexer": "ipython2",
   "version": "2.7.6"
  }
 },
 "nbformat": 4,
 "nbformat_minor": 0
}
